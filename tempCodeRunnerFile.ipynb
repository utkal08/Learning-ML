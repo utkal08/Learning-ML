def leapyear(a):
     if a %4==0 :
            print("leap ")