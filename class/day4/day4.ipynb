{
 "cells": [
  {
   "cell_type": "code",
   "execution_count": 1,
   "id": "dc5e7772",
   "metadata": {},
   "outputs": [],
   "source": [
    "list = [x for x in range (10)]"
   ]
  },
  {
   "cell_type": "code",
   "execution_count": 2,
   "id": "46f32287",
   "metadata": {},
   "outputs": [
    {
     "data": {
      "text/plain": [
       "[0, 1, 2, 3, 4, 5, 6, 7, 8, 9]"
      ]
     },
     "execution_count": 2,
     "metadata": {},
     "output_type": "execute_result"
    }
   ],
   "source": [
    "list "
   ]
  },
  {
   "cell_type": "code",
   "execution_count": 3,
   "id": "7df24477",
   "metadata": {},
   "outputs": [
    {
     "data": {
      "text/plain": [
       "184"
      ]
     },
     "execution_count": 3,
     "metadata": {},
     "output_type": "execute_result"
    }
   ],
   "source": [
    "import sys \n",
    "sys.getsizeof(list)"
   ]
  },
  {
   "cell_type": "code",
   "execution_count": 4,
   "id": "a7217e67",
   "metadata": {},
   "outputs": [
    {
     "data": {
      "text/plain": [
       "48"
      ]
     },
     "execution_count": 4,
     "metadata": {},
     "output_type": "execute_result"
    }
   ],
   "source": [
    "x =range(10000000000000)\n",
    "sys.getsizeof(x)"
   ]
  },
  {
   "cell_type": "code",
   "execution_count": 5,
   "id": "270c6476",
   "metadata": {},
   "outputs": [],
   "source": [
    "#STRINGS"
   ]
  },
  {
   "cell_type": "code",
   "execution_count": 7,
   "id": "915f0681",
   "metadata": {},
   "outputs": [
    {
     "name": "stdout",
     "output_type": "stream",
     "text": [
      "I\n",
      "N\n",
      "N\n",
      "O\n",
      "G\n",
      "E\n",
      "E\n",
      "K\n",
      "S\n"
     ]
    }
   ],
   "source": [
    "for x in \"INNOGEEKS\" :\n",
    "    print(x)"
   ]
  },
  {
   "cell_type": "code",
   "execution_count": 8,
   "id": "aea286a3",
   "metadata": {},
   "outputs": [],
   "source": [
    "a =\"Hello ,world !\""
   ]
  },
  {
   "cell_type": "code",
   "execution_count": 9,
   "id": "54f7e3a8",
   "metadata": {},
   "outputs": [
    {
     "name": "stdout",
     "output_type": "stream",
     "text": [
      "H\n",
      "e\n",
      "l\n",
      "l\n",
      "o\n",
      " \n",
      ",\n",
      "w\n",
      "o\n",
      "r\n",
      "l\n",
      "d\n",
      " \n",
      "!\n"
     ]
    }
   ],
   "source": [
    "for x in a :\n",
    "    print(x)"
   ]
  },
  {
   "cell_type": "code",
   "execution_count": null,
   "id": "c69dfb2d",
   "metadata": {},
   "outputs": [],
   "source": []
  },
  {
   "cell_type": "code",
   "execution_count": 10,
   "id": "36673eb6",
   "metadata": {},
   "outputs": [
    {
     "data": {
      "text/plain": [
       "'Hello ,world !'"
      ]
     },
     "execution_count": 10,
     "metadata": {},
     "output_type": "execute_result"
    }
   ],
   "source": [
    "a "
   ]
  },
  {
   "cell_type": "code",
   "execution_count": null,
   "id": "b7391510",
   "metadata": {},
   "outputs": [],
   "source": [
    "# string  [start :stop :skip]"
   ]
  },
  {
   "cell_type": "code",
   "execution_count": 19,
   "id": "bbd36628",
   "metadata": {},
   "outputs": [
    {
     "name": "stdout",
     "output_type": "stream",
     "text": [
      ",world \n"
     ]
    }
   ],
   "source": [
    "print (a[-8:-1])"
   ]
  },
  {
   "cell_type": "code",
   "execution_count": 16,
   "id": "e72e67c2",
   "metadata": {},
   "outputs": [
    {
     "name": "stdout",
     "output_type": "stream",
     "text": [
      "el w\n"
     ]
    }
   ],
   "source": [
    "print(a[1:8:2])"
   ]
  },
  {
   "cell_type": "code",
   "execution_count": 20,
   "id": "6d893e97",
   "metadata": {},
   "outputs": [
    {
     "name": "stdout",
     "output_type": "stream",
     "text": [
      "!drw le\n"
     ]
    }
   ],
   "source": [
    "print(a[::-2])"
   ]
  },
  {
   "cell_type": "code",
   "execution_count": 37,
   "id": "1b4b649a",
   "metadata": {},
   "outputs": [
    {
     "name": "stdout",
     "output_type": "stream",
     "text": [
      "True\n"
     ]
    }
   ],
   "source": [
    "str=\"hello, i am studying in innogeeks class \"\n",
    "print(\"am \"in str)"
   ]
  },
  {
   "cell_type": "code",
   "execution_count": 23,
   "id": "a25a3fb7",
   "metadata": {},
   "outputs": [
    {
     "data": {
      "text/plain": [
       "'HELLO, I AM STUDYING IN INNOGEEKS CLASS'"
      ]
     },
     "execution_count": 23,
     "metadata": {},
     "output_type": "execute_result"
    }
   ],
   "source": [
    "str.upper()\n"
   ]
  },
  {
   "cell_type": "code",
   "execution_count": 24,
   "id": "8a607637",
   "metadata": {},
   "outputs": [
    {
     "data": {
      "text/plain": [
       "'hello, i am studying in innogeeks class'"
      ]
     },
     "execution_count": 24,
     "metadata": {},
     "output_type": "execute_result"
    }
   ],
   "source": [
    "str.lower()"
   ]
  },
  {
   "cell_type": "code",
   "execution_count": 27,
   "id": "e8f48e06",
   "metadata": {},
   "outputs": [
    {
     "data": {
      "text/plain": [
       "'hello, i am studying in innogeeks class'"
      ]
     },
     "execution_count": 27,
     "metadata": {},
     "output_type": "execute_result"
    }
   ],
   "source": [
    "str.casefold()"
   ]
  },
  {
   "cell_type": "code",
   "execution_count": 40,
   "id": "dcbdc5dd",
   "metadata": {},
   "outputs": [],
   "source": [
    "str1= str+  \"\"+\"  surya kumar yadav mr 360 \"+\"23\""
   ]
  },
  {
   "cell_type": "raw",
   "id": "4cde5fad",
   "metadata": {},
   "source": [
    "\n",
    "str1"
   ]
  },
  {
   "cell_type": "code",
   "execution_count": 41,
   "id": "b02e47b5",
   "metadata": {},
   "outputs": [
    {
     "name": "stdout",
     "output_type": "stream",
     "text": [
      "hello, i am studying in innogeeks class   surya kumar yadav mr 360 23\n"
     ]
    }
   ],
   "source": [
    "print (str1)"
   ]
  },
  {
   "cell_type": "code",
   "execution_count": 38,
   "id": "d177711e",
   "metadata": {},
   "outputs": [],
   "source": [
    "list =[ 'a','b',]"
   ]
  },
  {
   "cell_type": "code",
   "execution_count": 39,
   "id": "1e3f097b",
   "metadata": {},
   "outputs": [
    {
     "data": {
      "text/plain": [
       "['a', 'b']"
      ]
     },
     "execution_count": 39,
     "metadata": {},
     "output_type": "execute_result"
    }
   ],
   "source": [
    "list"
   ]
  },
  {
   "cell_type": "code",
   "execution_count": null,
   "id": "239b36b7",
   "metadata": {},
   "outputs": [],
   "source": []
  },
  {
   "cell_type": "markdown",
   "id": "63db78a6",
   "metadata": {},
   "source": [
    "# Functions\n",
    "\n",
    "\n"
   ]
  },
  {
   "cell_type": "code",
   "execution_count": 42,
   "id": "e8a75080",
   "metadata": {},
   "outputs": [],
   "source": [
    "def inno():\n",
    "    print(\"rachitavya\")\n",
    "    "
   ]
  },
  {
   "cell_type": "code",
   "execution_count": 43,
   "id": "9724baf4",
   "metadata": {},
   "outputs": [
    {
     "name": "stdout",
     "output_type": "stream",
     "text": [
      "rachitavya\n"
     ]
    }
   ],
   "source": [
    "inno()"
   ]
  },
  {
   "cell_type": "code",
   "execution_count": 45,
   "id": "30af2bd5",
   "metadata": {},
   "outputs": [
    {
     "data": {
      "text/plain": [
       "['__breakpointhook__',\n",
       " '__displayhook__',\n",
       " '__doc__',\n",
       " '__excepthook__',\n",
       " '__interactivehook__',\n",
       " '__loader__',\n",
       " '__name__',\n",
       " '__package__',\n",
       " '__spec__',\n",
       " '__stderr__',\n",
       " '__stdin__',\n",
       " '__stdout__',\n",
       " '__unraisablehook__',\n",
       " '_base_executable',\n",
       " '_clear_type_cache',\n",
       " '_current_frames',\n",
       " '_debugmallocstats',\n",
       " '_enablelegacywindowsfsencoding',\n",
       " '_framework',\n",
       " '_getframe',\n",
       " '_git',\n",
       " '_home',\n",
       " '_xoptions',\n",
       " 'addaudithook',\n",
       " 'api_version',\n",
       " 'argv',\n",
       " 'audit',\n",
       " 'base_exec_prefix',\n",
       " 'base_prefix',\n",
       " 'breakpointhook',\n",
       " 'builtin_module_names',\n",
       " 'byteorder',\n",
       " 'call_tracing',\n",
       " 'copyright',\n",
       " 'displayhook',\n",
       " 'dllhandle',\n",
       " 'dont_write_bytecode',\n",
       " 'exc_info',\n",
       " 'excepthook',\n",
       " 'exec_prefix',\n",
       " 'executable',\n",
       " 'exit',\n",
       " 'flags',\n",
       " 'float_info',\n",
       " 'float_repr_style',\n",
       " 'get_asyncgen_hooks',\n",
       " 'get_coroutine_origin_tracking_depth',\n",
       " 'getallocatedblocks',\n",
       " 'getdefaultencoding',\n",
       " 'getfilesystemencodeerrors',\n",
       " 'getfilesystemencoding',\n",
       " 'getprofile',\n",
       " 'getrecursionlimit',\n",
       " 'getrefcount',\n",
       " 'getsizeof',\n",
       " 'getswitchinterval',\n",
       " 'gettrace',\n",
       " 'getwindowsversion',\n",
       " 'hash_info',\n",
       " 'hexversion',\n",
       " 'implementation',\n",
       " 'int_info',\n",
       " 'intern',\n",
       " 'is_finalizing',\n",
       " 'last_traceback',\n",
       " 'last_type',\n",
       " 'last_value',\n",
       " 'maxsize',\n",
       " 'maxunicode',\n",
       " 'meta_path',\n",
       " 'modules',\n",
       " 'path',\n",
       " 'path_hooks',\n",
       " 'path_importer_cache',\n",
       " 'platform',\n",
       " 'platlibdir',\n",
       " 'prefix',\n",
       " 'ps1',\n",
       " 'ps2',\n",
       " 'ps3',\n",
       " 'pycache_prefix',\n",
       " 'set_asyncgen_hooks',\n",
       " 'set_coroutine_origin_tracking_depth',\n",
       " 'setprofile',\n",
       " 'setrecursionlimit',\n",
       " 'setswitchinterval',\n",
       " 'settrace',\n",
       " 'stderr',\n",
       " 'stdin',\n",
       " 'stdout',\n",
       " 'thread_info',\n",
       " 'unraisablehook',\n",
       " 'version',\n",
       " 'version_info',\n",
       " 'warnoptions',\n",
       " 'winver']"
      ]
     },
     "execution_count": 45,
     "metadata": {},
     "output_type": "execute_result"
    }
   ],
   "source": [
    "y =dir(sys)\n",
    "y"
   ]
  },
  {
   "cell_type": "code",
   "execution_count": 47,
   "id": "d566afcd",
   "metadata": {},
   "outputs": [],
   "source": [
    "def inno (size):\n",
    "    print(\"utkal\"+size)\n",
    "    inno (\"30\")"
   ]
  },
  {
   "cell_type": "code",
   "execution_count": 48,
   "id": "d1b35981",
   "metadata": {},
   "outputs": [],
   "source": [
    "import sam\n"
   ]
  },
  {
   "cell_type": "code",
   "execution_count": 50,
   "id": "86ef9984",
   "metadata": {},
   "outputs": [
    {
     "ename": "AttributeError",
     "evalue": "module 'sam' has no attribute 'myfunc'",
     "output_type": "error",
     "traceback": [
      "\u001b[1;31m---------------------------------------------------------------------------\u001b[0m",
      "\u001b[1;31mAttributeError\u001b[0m                            Traceback (most recent call last)",
      "\u001b[1;32m~\\AppData\\Local\\Temp\\ipykernel_3316\\2586476178.py\u001b[0m in \u001b[0;36m<module>\u001b[1;34m\u001b[0m\n\u001b[1;32m----> 1\u001b[1;33m \u001b[0msam\u001b[0m\u001b[1;33m.\u001b[0m\u001b[0mmyfunc\u001b[0m\u001b[1;33m(\u001b[0m\u001b[1;33m)\u001b[0m\u001b[1;33m\u001b[0m\u001b[1;33m\u001b[0m\u001b[0m\n\u001b[0m",
      "\u001b[1;31mAttributeError\u001b[0m: module 'sam' has no attribute 'myfunc'"
     ]
    }
   ],
   "source": [
    "sam.myfunc()"
   ]
  },
  {
   "cell_type": "code",
   "execution_count": 51,
   "id": "e42a9794",
   "metadata": {},
   "outputs": [],
   "source": [
    "import mn"
   ]
  },
  {
   "cell_type": "code",
   "execution_count": 52,
   "id": "9a66d96c",
   "metadata": {},
   "outputs": [
    {
     "name": "stdout",
     "output_type": "stream",
     "text": [
      "hello\n"
     ]
    }
   ],
   "source": [
    "mn.myfunc()"
   ]
  },
  {
   "cell_type": "code",
   "execution_count": null,
   "id": "980db232",
   "metadata": {},
   "outputs": [],
   "source": []
  }
 ],
 "metadata": {
  "kernelspec": {
   "display_name": "Python 3",
   "language": "python",
   "name": "python3"
  },
  "language_info": {
   "codemirror_mode": {
    "name": "ipython",
    "version": 3
   },
   "file_extension": ".py",
   "mimetype": "text/x-python",
   "name": "python",
   "nbconvert_exporter": "python",
   "pygments_lexer": "ipython3",
   "version": "3.11.0 (main, Oct 24 2022, 18:26:48) [MSC v.1933 64 bit (AMD64)]"
  },
  "vscode": {
   "interpreter": {
    "hash": "bcabdd1868e74da095b6beb3289dd7a4c2ad59d0c3ddd86fca6ab1561977e388"
   }
  }
 },
 "nbformat": 4,
 "nbformat_minor": 5
}
