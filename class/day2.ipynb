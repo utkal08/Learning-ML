{
 "cells": [
  {
   "cell_type": "code",
   "execution_count": 19,
   "id": "fc24a4e1",
   "metadata": {
    "scrolled": true
   },
   "outputs": [
    {
     "name": "stdout",
     "output_type": "stream",
     "text": [
      "a is smaller than b \n",
      "Artificial Intelligence \n"
     ]
    }
   ],
   "source": [
    "a = 23\n",
    "b=45\n",
    "if a<b:\n",
    "    print(\"a is smaller than b \")\n",
    "    print(\"Artificial Intelligence \")\n",
    "elif a==b:\n",
    "    print(\"a is equal to b\")\n",
    "else:\n",
    "    print(\"A is greater than b \")\n",
    "    print(\"Machine learning\")"
   ]
  },
  {
   "cell_type": "code",
   "execution_count": 16,
   "id": "2ccd7db3",
   "metadata": {},
   "outputs": [
    {
     "name": "stdout",
     "output_type": "stream",
     "text": [
      "we are going right\n"
     ]
    }
   ],
   "source": [
    "a=200\n",
    "b=300\n",
    "c=300\n",
    "if a<b and b==c:\n",
    "    print(\"we are going right\")"
   ]
  },
  {
   "cell_type": "code",
   "execution_count": 26,
   "id": "530afed6",
   "metadata": {},
   "outputs": [],
   "source": [
    "if a>90:\n",
    "    print(\"more than 10\")\n",
    "    if (a >100):\n",
    "        print(\"above 100\")\n",
    "    else :\n",
    "            print(\"above 10 but less than 100\")\n",
    "            \n",
    "    "
   ]
  },
  {
   "cell_type": "code",
   "execution_count": 24,
   "id": "2ab67c78",
   "metadata": {},
   "outputs": [
    {
     "name": "stdout",
     "output_type": "stream",
     "text": [
      "45\n",
      "<class 'int'>\n"
     ]
    }
   ],
   "source": [
    " x = int(input ())\n",
    "print(type(x))"
   ]
  },
  {
   "cell_type": "code",
   "execution_count": 32,
   "id": "07ae00fe",
   "metadata": {},
   "outputs": [
    {
     "name": "stdout",
     "output_type": "stream",
     "text": [
      "enter a 23\n",
      "enter b 4\n",
      "enter c 3\n",
      "a is greater than other \n"
     ]
    }
   ],
   "source": [
    "a = int(input(\"enter a \"))\n",
    "b =int(input(\"enter b \"))\n",
    "c = int(input(\"enter c \"))\n",
    "if a>b and a>c:\n",
    "        print(\"a is greater than other \")\n",
    "elif b>a and b>c:\n",
    "        print(\"b is greater than other \")\n",
    "else:\n",
    "    print(\"cis greater than other \")"
   ]
  },
  {
   "cell_type": "code",
   "execution_count": 33,
   "id": "96756f0b",
   "metadata": {},
   "outputs": [
    {
     "name": "stdout",
     "output_type": "stream",
     "text": [
      "world worst operating system in windows\n"
     ]
    }
   ],
   "source": [
    "print(\"world worst operating system is windows\")"
   ]
  },
  {
   "cell_type": "code",
   "execution_count": null,
   "id": "82c83a1f",
   "metadata": {},
   "outputs": [],
   "source": [
    "i =1\n",
    "while i<6:\n",
    "    print(i)\n"
   ]
  },
  {
   "cell_type": "code",
   "execution_count": null,
   "id": "1bdac0d8",
   "metadata": {},
   "outputs": [],
   "source": []
  }
 ],
 "metadata": {
  "kernelspec": {
   "display_name": "Python 3 (ipykernel)",
   "language": "python",
   "name": "python3"
  },
  "language_info": {
   "codemirror_mode": {
    "name": "ipython",
    "version": 3
   },
   "file_extension": ".py",
   "mimetype": "text/x-python",
   "name": "python",
   "nbconvert_exporter": "python",
   "pygments_lexer": "ipython3",
   "version": "3.9.13"
  }
 },
 "nbformat": 4,
 "nbformat_minor": 5
}
