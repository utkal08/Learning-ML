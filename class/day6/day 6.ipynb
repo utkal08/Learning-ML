{
 "cells": [
  {
   "cell_type": "code",
   "execution_count": 1,
   "id": "d6c0b771",
   "metadata": {},
   "outputs": [],
   "source": [
    "def leapyear(a):\n",
    "     if a %4==0 :\n",
    "            print(\"leap \")"
   ]
  },
  {
   "cell_type": "code",
   "execution_count": 2,
   "id": "7f07bc68",
   "metadata": {},
   "outputs": [
    {
     "name": "stdout",
     "output_type": "stream",
     "text": [
      "leap \n"
     ]
    }
   ],
   "source": [
    "leapyear(1700\n",
    "    )"
   ]
  },
  {
   "cell_type": "code",
   "execution_count": 10,
   "id": "ebb0889a",
   "metadata": {},
   "outputs": [],
   "source": [
    "import numpy as np \n"
   ]
  },
  {
   "cell_type": "code",
   "execution_count": 11,
   "id": "3168ffa4",
   "metadata": {},
   "outputs": [],
   "source": [
    "# creationg an array \n",
    "\n",
    "arr = np.array([1,2,3,4,5])"
   ]
  },
  {
   "cell_type": "raw",
   "id": "8d426c08",
   "metadata": {},
   "source": [
    "arr"
   ]
  },
  {
   "cell_type": "code",
   "execution_count": 15,
   "id": "d3224747",
   "metadata": {},
   "outputs": [],
   "source": [
    "# datatype of an array \n",
    "arr =np.array([1,2,3,4,5],dtype=str)"
   ]
  },
  {
   "cell_type": "code",
   "execution_count": 16,
   "id": "03c12cdb",
   "metadata": {},
   "outputs": [],
   "source": [
    "arr=np.arange(10,40,2)"
   ]
  },
  {
   "cell_type": "code",
   "execution_count": 17,
   "id": "741464a4",
   "metadata": {},
   "outputs": [
    {
     "data": {
      "text/plain": [
       "array([10, 12, 14, 16, 18, 20, 22, 24, 26, 28, 30, 32, 34, 36, 38])"
      ]
     },
     "execution_count": 17,
     "metadata": {},
     "output_type": "execute_result"
    }
   ],
   "source": [
    "arr"
   ]
  },
  {
   "cell_type": "code",
   "execution_count": 18,
   "id": "dc40c90b",
   "metadata": {},
   "outputs": [
    {
     "data": {
      "text/plain": [
       "array([10, 12, 14, 16, 18, 40, 20, 22, 24, 26, 28, 30, 32, 34, 36, 38])"
      ]
     },
     "execution_count": 18,
     "metadata": {},
     "output_type": "execute_result"
    }
   ],
   "source": [
    "np.insert (arr,5,int(40))"
   ]
  },
  {
   "cell_type": "code",
   "execution_count": 19,
   "id": "21ab74b2",
   "metadata": {},
   "outputs": [
    {
     "data": {
      "text/plain": [
       "array([10, 12, 14, 16, 18, 22, 24, 26, 28, 30, 32, 34, 36, 38])"
      ]
     },
     "execution_count": 19,
     "metadata": {},
     "output_type": "execute_result"
    }
   ],
   "source": [
    "np.delete(arr,5)"
   ]
  },
  {
   "cell_type": "code",
   "execution_count": 21,
   "id": "bbc39921",
   "metadata": {},
   "outputs": [
    {
     "data": {
      "text/plain": [
       "array([100,  10,  12,  14,  16,  18,  20,  22,  24,  26,  28,  30,  32,\n",
       "        34,  36,  38])"
      ]
     },
     "execution_count": 21,
     "metadata": {},
     "output_type": "execute_result"
    }
   ],
   "source": [
    "arr =np.insert(arr,0,100)\n",
    "arr"
   ]
  },
  {
   "cell_type": "code",
   "execution_count": 22,
   "id": "67a27756",
   "metadata": {},
   "outputs": [
    {
     "data": {
      "text/plain": [
       "array([100,  10,  12,  14,  16,  18,  20,  22,  24,  26,  28,  30,  32,\n",
       "        34,  36,  38,  50])"
      ]
     },
     "execution_count": 22,
     "metadata": {},
     "output_type": "execute_result"
    }
   ],
   "source": [
    "np.append(arr,50)"
   ]
  },
  {
   "cell_type": "code",
   "execution_count": 23,
   "id": "1c924107",
   "metadata": {},
   "outputs": [],
   "source": [
    "arr = arr.astype(int)"
   ]
  },
  {
   "cell_type": "code",
   "execution_count": null,
   "id": "02587e08",
   "metadata": {},
   "outputs": [],
   "source": []
  },
  {
   "cell_type": "code",
   "execution_count": 24,
   "id": "2e9a907f",
   "metadata": {},
   "outputs": [
    {
     "data": {
      "text/plain": [
       "array([100,  10,  12,  14,  16,  18,  20,  22,  24,  26,  28,  30,  32,\n",
       "        34,  36,  38])"
      ]
     },
     "execution_count": 24,
     "metadata": {},
     "output_type": "execute_result"
    }
   ],
   "source": [
    "arr"
   ]
  },
  {
   "cell_type": "code",
   "execution_count": null,
   "id": "8bc5786f",
   "metadata": {},
   "outputs": [],
   "source": [
    "# matrices"
   ]
  },
  {
   "cell_type": "code",
   "execution_count": 48,
   "id": "2550301f",
   "metadata": {},
   "outputs": [
    {
     "name": "stdout",
     "output_type": "stream",
     "text": [
      "[[ 1  2  3  4]\n",
      " [ 5  6  7  8]\n",
      " [ 9 10 11 12]]\n"
     ]
    }
   ],
   "source": [
    "mat =np.array([[1,2,3,4],[5,6,7,8],[9,10,11,12,]])\n",
    "print( mat)"
   ]
  },
  {
   "cell_type": "code",
   "execution_count": 34,
   "id": "cc68301b",
   "metadata": {},
   "outputs": [
    {
     "name": "stdout",
     "output_type": "stream",
     "text": [
      "1.2430109977722168\n"
     ]
    }
   ],
   "source": [
    "# speed list \n",
    "a =[i for i in range (10000000)]\n",
    "b=[i for i in range (10000000,20000000)]\n",
    "c= []\n",
    "import time \n",
    "start = time.time()\n",
    "for i in range (len(a)):\n",
    "        c.append(a[i]+b[i])\n",
    "print(time.time()-start)"
   ]
  },
  {
   "cell_type": "code",
   "execution_count": 45,
   "id": "c1e16ee6",
   "metadata": {},
   "outputs": [
    {
     "name": "stdout",
     "output_type": "stream",
     "text": [
      "0.011995315551757812\n"
     ]
    }
   ],
   "source": [
    "arr1=np.arange(10000000)\n",
    "arr2=np.arange(10000000,20000000)\n",
    "import time \n",
    "start = time.time()\n",
    "arr3=arr1+arr2\n",
    "print(time.time()-start)"
   ]
  },
  {
   "cell_type": "code",
   "execution_count": 44,
   "id": "08644df6",
   "metadata": {},
   "outputs": [
    {
     "data": {
      "text/plain": [
       "13.91304347826087"
      ]
     },
     "execution_count": 44,
     "metadata": {},
     "output_type": "execute_result"
    }
   ],
   "source": [
    "6.4/0.46\n",
    "\n"
   ]
  },
  {
   "cell_type": "code",
   "execution_count": 41,
   "id": "adac0be6",
   "metadata": {},
   "outputs": [
    {
     "name": "stdout",
     "output_type": "stream",
     "text": [
      "<built-in function time>\n"
     ]
    }
   ],
   "source": [
    "printt(time.time)"
   ]
  },
  {
   "cell_type": "code",
   "execution_count": 49,
   "id": "c16092f1",
   "metadata": {},
   "outputs": [
    {
     "name": "stdout",
     "output_type": "stream",
     "text": [
      "[[ 1  2  3  4]\n",
      " [ 5  6  7  8]\n",
      " [ 9 10 11 12]]\n"
     ]
    }
   ],
   "source": [
    "print(mat)\n"
   ]
  },
  {
   "cell_type": "code",
   "execution_count": 53,
   "id": "b1c8f32d",
   "metadata": {},
   "outputs": [
    {
     "data": {
      "text/plain": [
       "7"
      ]
     },
     "execution_count": 53,
     "metadata": {},
     "output_type": "execute_result"
    }
   ],
   "source": [
    "mat[1,2]"
   ]
  },
  {
   "cell_type": "markdown",
   "id": "08a0584c",
   "metadata": {},
   "source": []
  },
  {
   "cell_type": "code",
   "execution_count": 58,
   "id": "43aa2354",
   "metadata": {},
   "outputs": [
    {
     "name": "stdout",
     "output_type": "stream",
     "text": [
      "2\n",
      "6\n",
      "10\n"
     ]
    }
   ],
   "source": [
    "for i in range (3):\n",
    "    print(mat[i,1])"
   ]
  },
  {
   "cell_type": "code",
   "execution_count": 61,
   "id": "1125cd01",
   "metadata": {},
   "outputs": [
    {
     "name": "stderr",
     "output_type": "stream",
     "text": [
      "C:\\Users\\utkal\\AppData\\Local\\Temp\\ipykernel_19944\\118544508.py:1: VisibleDeprecationWarning: Creating an ndarray from ragged nested sequences (which is a list-or-tuple of lists-or-tuples-or ndarrays with different lengths or shapes) is deprecated. If you meant to do this, you must specify 'dtype=object' when creating the ndarray.\n",
      "  d3=np.array([[[1,2,3,4],[5,6,7,8]],[[9,10,11,12,[13,31,35,35]]]])\n"
     ]
    }
   ],
   "source": [
    "d3=np.array([[[1,2,3,4],[5,6,7,8]],[[9,10,11,12,[13,31,35,35]]]])"
   ]
  },
  {
   "cell_type": "code",
   "execution_count": 62,
   "id": "63c8aca3",
   "metadata": {},
   "outputs": [
    {
     "data": {
      "text/plain": [
       "[[9, 10, 11, 12, [13, 31, 35, 35]]]"
      ]
     },
     "execution_count": 62,
     "metadata": {},
     "output_type": "execute_result"
    }
   ],
   "source": [
    "d3[1]"
   ]
  },
  {
   "cell_type": "code",
   "execution_count": null,
   "id": "7ab6406d",
   "metadata": {},
   "outputs": [],
   "source": [
    "dn=np.array([3],ndarray=5)"
   ]
  }
 ],
 "metadata": {
  "kernelspec": {
   "display_name": "Python 3",
   "language": "python",
   "name": "python3"
  },
  "language_info": {
   "codemirror_mode": {
    "name": "ipython",
    "version": 3
   },
   "file_extension": ".py",
   "mimetype": "text/x-python",
   "name": "python",
   "nbconvert_exporter": "python",
   "pygments_lexer": "ipython3",
   "version": "3.11.0 (main, Oct 24 2022, 18:26:48) [MSC v.1933 64 bit (AMD64)]"
  },
  "vscode": {
   "interpreter": {
    "hash": "bcabdd1868e74da095b6beb3289dd7a4c2ad59d0c3ddd86fca6ab1561977e388"
   }
  }
 },
 "nbformat": 4,
 "nbformat_minor": 5
}
