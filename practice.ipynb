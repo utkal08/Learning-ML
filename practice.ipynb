{
 "cells": [
  {
   "cell_type": "code",
   "execution_count": null,
   "id": "d78c6c7f",
   "metadata": {},
   "outputs": [],
   "source": [
    " #searching an element in an array \n",
    "import numpy as np\n",
    "def search(arr,n,s)\n",
    " arr = np.array[1,2,4,5,6,7]\n",
    "val = int (input(\"enter the element which you want to print \"))\n",
    "x=0\n",
    "for i in arr:\n",
    "         if arr[i]==val:    \n",
    "            print(' INDEX OF THE NUMBER IS ' ,i)\n",
    "            break \n",
    "            \n"
   ]
  },
  {
   "cell_type": "code",
   "execution_count": 19,
   "id": "3600f6f1",
   "metadata": {},
   "outputs": [
    {
     "name": "stdout",
     "output_type": "stream",
     "text": [
      "7\n"
     ]
    }
   ],
   "source": [
    "# finding largest element in an array \n",
    "arr = [1,2,4,5,6,7]\n",
    "\n",
    "lar =arr[0]\n",
    "for i in arr:\n",
    "    if i >lar:\n",
    "        lar=i\n",
    "print (lar)\n",
    "         "
   ]
  },
  {
   "cell_type": "code",
   "execution_count": 20,
   "id": "0603e916",
   "metadata": {},
   "outputs": [
    {
     "name": "stdout",
     "output_type": "stream",
     "text": [
      "1\n"
     ]
    }
   ],
   "source": [
    "# finding smallest element in an array \n",
    "arr = [1,2,4,5,6,7]\n",
    "lar =arr[0]\n",
    "for i in arr:\n",
    "    if i <lar:\n",
    "        lar=i\n",
    "print (lar)\n",
    "         \n",
    "         "
   ]
  },
  {
   "cell_type": "code",
   "execution_count": null,
   "id": "ea3063fa",
   "metadata": {},
   "outputs": [],
   "source": [
    " # reversing an array \n",
    "arr = [1,2,4,5,6,7]  \n",
    "len =0\n",
    "for i in arr:\n",
    "      len =len+1\n",
    "for i in range (0,len/2):\n",
    "    temp=arr[i]\n",
    "    arr[i]=arr[len-i-1]\n",
    "    arr[]\n",
    "    "
   ]
  },
  {
   "cell_type": "code",
   "execution_count": null,
   "id": "8457662a",
   "metadata": {},
   "outputs": [],
   "source": [
    "#5. rotating an array from kth positon."
   ]
  },
  {
   "cell_type": "code",
   "execution_count": null,
   "id": "5e866cff",
   "metadata": {},
   "outputs": [],
   "source": [
    "arr =[3,2,57,5,75,89,797,]\n",
    "int(input(\"enter the kth term\"))"
   ]
  },
  {
   "cell_type": "code",
   "execution_count": null,
   "id": "105c1534",
   "metadata": {},
   "outputs": [],
   "source": [
    "def reverse (arr):\n",
    "    arr = [1,2,4,5,6,7]  \n",
    "    return arr[::-1]\n",
    "\n"
   ]
  },
  {
   "cell_type": "code",
   "execution_count": null,
   "id": "b84760d8",
   "metadata": {},
   "outputs": [],
   "source": []
  },
  {
   "cell_type": "code",
   "execution_count": null,
   "id": "ace97078",
   "metadata": {},
   "outputs": [],
   "source": []
  }
 ],
 "metadata": {
  "kernelspec": {
   "display_name": "Python 3 (ipykernel)",
   "language": "python",
   "name": "python3"
  },
  "language_info": {
   "codemirror_mode": {
    "name": "ipython",
    "version": 3
   },
   "file_extension": ".py",
   "mimetype": "text/x-python",
   "name": "python",
   "nbconvert_exporter": "python",
   "pygments_lexer": "ipython3",
   "version": "3.9.13"
  }
 },
 "nbformat": 4,
 "nbformat_minor": 5
}
