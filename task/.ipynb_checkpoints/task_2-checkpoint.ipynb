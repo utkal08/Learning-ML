{
 "cells": [
  {
   "cell_type": "code",
   "execution_count": 1,
   "id": "7a0a5934",
   "metadata": {},
   "outputs": [],
   "source": [
    "import pandas as pd\n"
   ]
  },
  {
   "cell_type": "code",
   "execution_count": 11,
   "id": "e69b9c07",
   "metadata": {},
   "outputs": [],
   "source": [
    "def describe1(): \n",
    "\n",
    "        name =['utkal','aryan','aditya','varun']\n",
    "        present = [24,13,21,34]\n",
    "        absent =[3,12,23,32]\n",
    "        leave = [1,2,3,4]\n",
    "\n",
    "        student_info={'name of student':name,' no of days of present':present,'no of days of absent':absent,'no of days of leave':leave}\n",
    "        df=pd.DataFrame(student_info)\n",
    "        print(df.describe())\n"
   ]
  },
  {
   "cell_type": "code",
   "execution_count": 12,
   "id": "5a4987c9",
   "metadata": {},
   "outputs": [
    {
     "name": "stdout",
     "output_type": "stream",
     "text": [
      "        no of days of present  no of days of absent  no of days of leave\n",
      "count                4.000000               4.00000             4.000000\n",
      "mean                23.000000              17.50000             2.500000\n",
      "std                  8.679478              12.66228             1.290994\n",
      "min                 13.000000               3.00000             1.000000\n",
      "25%                 19.000000               9.75000             1.750000\n",
      "50%                 22.500000              17.50000             2.500000\n",
      "75%                 26.500000              25.25000             3.250000\n",
      "max                 34.000000              32.00000             4.000000\n"
     ]
    }
   ],
   "source": [
    "describe1()"
   ]
  },
  {
   "cell_type": "code",
   "execution_count": null,
   "id": "7510cb82",
   "metadata": {},
   "outputs": [],
   "source": []
  }
 ],
 "metadata": {
  "kernelspec": {
   "display_name": "Python 3 (ipykernel)",
   "language": "python",
   "name": "python3"
  },
  "language_info": {
   "codemirror_mode": {
    "name": "ipython",
    "version": 3
   },
   "file_extension": ".py",
   "mimetype": "text/x-python",
   "name": "python",
   "nbconvert_exporter": "python",
   "pygments_lexer": "ipython3",
   "version": "3.9.13"
  }
 },
 "nbformat": 4,
 "nbformat_minor": 5
}
